{
 "cells": [
  {
   "cell_type": "code",
   "execution_count": 7,
   "metadata": {},
   "outputs": [],
   "source": [
    "import pandas as pd\n",
    "from selenium import webdriver\n",
    "from selenium.webdriver.common.keys import Keys\n",
    "from selenium.webdriver.common.by import By\n",
    "from selenium.webdriver.support.ui import WebDriverWait\n",
    "from selenium.webdriver.support import expected_conditions as EC\n",
    "import time\n",
    "from bs4 import BeautifulSoup\n",
    "import csv\n",
    "from selenium.webdriver.chrome.service import Service\n",
    "\n",
    "mmsi_list=pd.read_csv('diff.csv')['mmsi'].tolist()\n",
    "with open('scraping_from_marinetraffic.csv','a',newline='', encoding='utf-8-sig') as maffic:\n",
    "    writer=csv.writer(maffic)\n",
    "    writer.writerow(['IMO','MMSI','Callsign','name','type','Flag','length','width'])\n",
    "\n",
    "service=Service('C:/driver/chromedriver-win64/chromedriver.exe')\n",
    "driver=webdriver.Chrome(service=service)\n",
    "driver.get('https://www.marinetraffic.com/')\n",
    "\n",
    "\n"
   ]
  }
 ],
 "metadata": {
  "kernelspec": {
   "display_name": "Python 3",
   "language": "python",
   "name": "python3"
  },
  "language_info": {
   "codemirror_mode": {
    "name": "ipython",
    "version": 3
   },
   "file_extension": ".py",
   "mimetype": "text/x-python",
   "name": "python",
   "nbconvert_exporter": "python",
   "pygments_lexer": "ipython3",
   "version": "3.8.6"
  }
 },
 "nbformat": 4,
 "nbformat_minor": 2
}
